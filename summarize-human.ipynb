{
 "cells": [
  {
   "cell_type": "code",
   "execution_count": 1,
   "id": "8a0d6ccb",
   "metadata": {},
   "outputs": [],
   "source": [
    "import pandas as pd\n",
    "from glob import glob\n",
    "import os.path\n",
    "from matplotlib import pyplot"
   ]
  },
  {
   "cell_type": "code",
   "execution_count": 2,
   "id": "693c16f5",
   "metadata": {},
   "outputs": [],
   "source": [
    "def load_acc_info(acc, *, src='swine'):\n",
    "    d = {}\n",
    "    d['acc'] = acc\n",
    "    d['source'] = src\n",
    "\n",
    "    all_gather = pd.read_csv(f'outputs.{src}-x-all/{acc}.gather.csv')\n",
    "    all_gathertax = pd.read_csv(f'outputs.{src}-x-all/{acc}.gathertax.summarized.csv')\n",
    "    all_gathertax_species = all_gathertax[all_gathertax['rank'] == 'species']\n",
    "    d['all_num_genomes'] = len(all_gather)\n",
    "    d['all_num_species'] = len(all_gathertax_species)\n",
    "\n",
    "    try:\n",
    "        reps_gather = pd.read_csv(f'outputs.{src}-x-reps/{acc}.gather.csv')\n",
    "        reps_gathertax = pd.read_csv(f'outputs.{src}-x-reps/{acc}.gathertax.summarized.csv')\n",
    "        reps_gathertax_species = reps_gathertax[reps_gathertax['rank'] == 'species']\n",
    "        d['reps_num_genomes'] = len(reps_gather)\n",
    "        d['reps_num_species'] = len(reps_gathertax_species)\n",
    "    except:\n",
    "        d['reps_num_genomes'] = -1\n",
    "        d['reps_num_species'] = -1\n",
    "\n",
    "    weighted_found = int(all_gather['sum_weighted_found'].tail(1))\n",
    "    weighted_total = int(all_gather['total_weighted_hashes'].tail(1))\n",
    "    d['p_weighted_found'] = 100*weighted_found / weighted_total\n",
    "    \n",
    "    try:\n",
    "        host_df = pd.read_csv(f'outputs.{src}-x-all/{acc}.x.host.search.csv')\n",
    "        p_host = float(host_df['similarity'].tail(1)) * 100\n",
    "    except pd.errors.EmptyDataError:\n",
    "        p_host = 0\n",
    "    d['p_host'] = p_host\n",
    "    \n",
    "    return d"
   ]
  },
  {
   "cell_type": "code",
   "execution_count": 3,
   "id": "ed34bfe5",
   "metadata": {},
   "outputs": [
    {
     "name": "stdout",
     "output_type": "stream",
     "text": [
      "218\n"
     ]
    }
   ],
   "source": [
    "acclist = glob('outputs.human-x-all/*.gather.csv')\n",
    "acclist = [ os.path.basename(x) for x in acclist ]\n",
    "acclist = [ x.split('.')[0] for x in acclist ]\n",
    "\n",
    "print(len(acclist))"
   ]
  },
  {
   "cell_type": "code",
   "execution_count": 4,
   "id": "5eaf4bf5",
   "metadata": {},
   "outputs": [],
   "source": [
    "acc_info_list = [ load_acc_info(acc, src='human') for acc in acclist ]\n",
    "\n",
    "gather_info_df = pd.DataFrame(acc_info_list)"
   ]
  },
  {
   "cell_type": "code",
   "execution_count": 5,
   "id": "15cee3de",
   "metadata": {},
   "outputs": [
    {
     "data": {
      "text/html": [
       "<div>\n",
       "<style scoped>\n",
       "    .dataframe tbody tr th:only-of-type {\n",
       "        vertical-align: middle;\n",
       "    }\n",
       "\n",
       "    .dataframe tbody tr th {\n",
       "        vertical-align: top;\n",
       "    }\n",
       "\n",
       "    .dataframe thead th {\n",
       "        text-align: right;\n",
       "    }\n",
       "</style>\n",
       "<table border=\"1\" class=\"dataframe\">\n",
       "  <thead>\n",
       "    <tr style=\"text-align: right;\">\n",
       "      <th></th>\n",
       "      <th>acc</th>\n",
       "      <th>source</th>\n",
       "      <th>all_num_genomes</th>\n",
       "      <th>all_num_species</th>\n",
       "      <th>reps_num_genomes</th>\n",
       "      <th>reps_num_species</th>\n",
       "      <th>p_weighted_found</th>\n",
       "      <th>p_host</th>\n",
       "    </tr>\n",
       "  </thead>\n",
       "  <tbody>\n",
       "    <tr>\n",
       "      <th>0</th>\n",
       "      <td>ERR4777899</td>\n",
       "      <td>human</td>\n",
       "      <td>31</td>\n",
       "      <td>25</td>\n",
       "      <td>25</td>\n",
       "      <td>26</td>\n",
       "      <td>85.846811</td>\n",
       "      <td>0.0</td>\n",
       "    </tr>\n",
       "    <tr>\n",
       "      <th>1</th>\n",
       "      <td>SRR7688469</td>\n",
       "      <td>human</td>\n",
       "      <td>15</td>\n",
       "      <td>15</td>\n",
       "      <td>13</td>\n",
       "      <td>14</td>\n",
       "      <td>41.931097</td>\n",
       "      <td>0.0</td>\n",
       "    </tr>\n",
       "    <tr>\n",
       "      <th>2</th>\n",
       "      <td>SRR13167563</td>\n",
       "      <td>human</td>\n",
       "      <td>3</td>\n",
       "      <td>3</td>\n",
       "      <td>2</td>\n",
       "      <td>3</td>\n",
       "      <td>81.133333</td>\n",
       "      <td>0.0</td>\n",
       "    </tr>\n",
       "    <tr>\n",
       "      <th>3</th>\n",
       "      <td>SRR1647363</td>\n",
       "      <td>human</td>\n",
       "      <td>66</td>\n",
       "      <td>48</td>\n",
       "      <td>50</td>\n",
       "      <td>51</td>\n",
       "      <td>62.685161</td>\n",
       "      <td>0.0</td>\n",
       "    </tr>\n",
       "    <tr>\n",
       "      <th>4</th>\n",
       "      <td>SRR13022313</td>\n",
       "      <td>human</td>\n",
       "      <td>262</td>\n",
       "      <td>188</td>\n",
       "      <td>216</td>\n",
       "      <td>217</td>\n",
       "      <td>82.999113</td>\n",
       "      <td>0.0</td>\n",
       "    </tr>\n",
       "    <tr>\n",
       "      <th>...</th>\n",
       "      <td>...</td>\n",
       "      <td>...</td>\n",
       "      <td>...</td>\n",
       "      <td>...</td>\n",
       "      <td>...</td>\n",
       "      <td>...</td>\n",
       "      <td>...</td>\n",
       "      <td>...</td>\n",
       "    </tr>\n",
       "    <tr>\n",
       "      <th>213</th>\n",
       "      <td>SRR21968712</td>\n",
       "      <td>human</td>\n",
       "      <td>88</td>\n",
       "      <td>80</td>\n",
       "      <td>81</td>\n",
       "      <td>82</td>\n",
       "      <td>92.826622</td>\n",
       "      <td>0.0</td>\n",
       "    </tr>\n",
       "    <tr>\n",
       "      <th>214</th>\n",
       "      <td>ERR7746094</td>\n",
       "      <td>human</td>\n",
       "      <td>1731</td>\n",
       "      <td>1038</td>\n",
       "      <td>1181</td>\n",
       "      <td>1182</td>\n",
       "      <td>80.726532</td>\n",
       "      <td>0.0</td>\n",
       "    </tr>\n",
       "    <tr>\n",
       "      <th>215</th>\n",
       "      <td>SRR058014</td>\n",
       "      <td>human</td>\n",
       "      <td>1</td>\n",
       "      <td>2</td>\n",
       "      <td>-1</td>\n",
       "      <td>-1</td>\n",
       "      <td>0.317776</td>\n",
       "      <td>0.0</td>\n",
       "    </tr>\n",
       "    <tr>\n",
       "      <th>216</th>\n",
       "      <td>ERR10797194</td>\n",
       "      <td>human</td>\n",
       "      <td>18</td>\n",
       "      <td>18</td>\n",
       "      <td>17</td>\n",
       "      <td>18</td>\n",
       "      <td>95.726861</td>\n",
       "      <td>0.0</td>\n",
       "    </tr>\n",
       "    <tr>\n",
       "      <th>217</th>\n",
       "      <td>SRR9865435</td>\n",
       "      <td>human</td>\n",
       "      <td>16</td>\n",
       "      <td>11</td>\n",
       "      <td>14</td>\n",
       "      <td>15</td>\n",
       "      <td>83.218820</td>\n",
       "      <td>0.0</td>\n",
       "    </tr>\n",
       "  </tbody>\n",
       "</table>\n",
       "<p>218 rows × 8 columns</p>\n",
       "</div>"
      ],
      "text/plain": [
       "             acc source  all_num_genomes  all_num_species  reps_num_genomes  \\\n",
       "0     ERR4777899  human               31               25                25   \n",
       "1     SRR7688469  human               15               15                13   \n",
       "2    SRR13167563  human                3                3                 2   \n",
       "3     SRR1647363  human               66               48                50   \n",
       "4    SRR13022313  human              262              188               216   \n",
       "..           ...    ...              ...              ...               ...   \n",
       "213  SRR21968712  human               88               80                81   \n",
       "214   ERR7746094  human             1731             1038              1181   \n",
       "215    SRR058014  human                1                2                -1   \n",
       "216  ERR10797194  human               18               18                17   \n",
       "217   SRR9865435  human               16               11                14   \n",
       "\n",
       "     reps_num_species  p_weighted_found  p_host  \n",
       "0                  26         85.846811     0.0  \n",
       "1                  14         41.931097     0.0  \n",
       "2                   3         81.133333     0.0  \n",
       "3                  51         62.685161     0.0  \n",
       "4                 217         82.999113     0.0  \n",
       "..                ...               ...     ...  \n",
       "213                82         92.826622     0.0  \n",
       "214              1182         80.726532     0.0  \n",
       "215                -1          0.317776     0.0  \n",
       "216                18         95.726861     0.0  \n",
       "217                15         83.218820     0.0  \n",
       "\n",
       "[218 rows x 8 columns]"
      ]
     },
     "execution_count": 5,
     "metadata": {},
     "output_type": "execute_result"
    }
   ],
   "source": [
    "gather_info_df"
   ]
  },
  {
   "cell_type": "code",
   "execution_count": 6,
   "id": "ca659bb2",
   "metadata": {},
   "outputs": [
    {
     "data": {
      "text/plain": [
       "{'bodies': [<matplotlib.collections.PolyCollection at 0x147cad910>],\n",
       " 'cmaxes': <matplotlib.collections.LineCollection at 0x147c92790>,\n",
       " 'cmins': <matplotlib.collections.LineCollection at 0x147cadfa0>,\n",
       " 'cbars': <matplotlib.collections.LineCollection at 0x147c383a0>}"
      ]
     },
     "execution_count": 6,
     "metadata": {},
     "output_type": "execute_result"
    },
    {
     "data": {
      "image/png": "[encoded data removed]",
      "text/plain": [
       "<Figure size 432x288 with 1 Axes>"
      ]
     },
     "metadata": {
      "needs_background": "light"
     },
     "output_type": "display_data"
    }
   ],
   "source": [
    "pyplot.violinplot(gather_info_df['p_weighted_found'])"
   ]
  },
  {
   "cell_type": "code",
   "execution_count": 7,
   "id": "b9cfd386",
   "metadata": {},
   "outputs": [
    {
     "data": {
      "text/plain": [
       "[<matplotlib.lines.Line2D at 0x147dc0280>]"
      ]
     },
     "execution_count": 7,
     "metadata": {},
     "output_type": "execute_result"
    },
    {
     "data": {
      "image/png": "[encoded data removed]",
      "text/plain": [
       "<Figure size 432x288 with 1 Axes>"
      ]
     },
     "metadata": {
      "needs_background": "light"
     },
     "output_type": "display_data"
    }
   ],
   "source": [
    "pyplot.plot(gather_info_df['all_num_genomes'], gather_info_df['all_num_species'], 'ro')"
   ]
  },
  {
   "cell_type": "code",
   "execution_count": 8,
   "id": "92d50799",
   "metadata": {},
   "outputs": [
    {
     "data": {
      "text/plain": [
       "[<matplotlib.lines.Line2D at 0x147e329a0>]"
      ]
     },
     "execution_count": 8,
     "metadata": {},
     "output_type": "execute_result"
    },
    {
     "data": {
      "image/png": "[encoded data removed]",
      "text/plain": [
       "<Figure size 432x288 with 1 Axes>"
      ]
     },
     "metadata": {
      "needs_background": "light"
     },
     "output_type": "display_data"
    }
   ],
   "source": [
    "pyplot.plot(gather_info_df['reps_num_species'], gather_info_df['all_num_species'], 'ro')"
   ]
  },
  {
   "cell_type": "code",
   "execution_count": 9,
   "id": "8241c539",
   "metadata": {},
   "outputs": [
    {
     "data": {
      "text/plain": [
       "{'bodies': [<matplotlib.collections.PolyCollection at 0x147e9c340>],\n",
       " 'cmaxes': <matplotlib.collections.LineCollection at 0x147e9c1f0>,\n",
       " 'cmins': <matplotlib.collections.LineCollection at 0x147e9c820>,\n",
       " 'cbars': <matplotlib.collections.LineCollection at 0x147e9cbe0>}"
      ]
     },
     "execution_count": 9,
     "metadata": {},
     "output_type": "execute_result"
    },
    {
     "data": {
      "image/png": "[encoded data removed]",
      "text/plain": [
       "<Figure size 432x288 with 1 Axes>"
      ]
     },
     "metadata": {
      "needs_background": "light"
     },
     "output_type": "display_data"
    }
   ],
   "source": [
    "pyplot.violinplot(gather_info_df['p_host'])"
   ]
  },
  {
   "cell_type": "code",
   "execution_count": 10,
   "id": "985f911b",
   "metadata": {},
   "outputs": [
    {
     "data": {
      "text/html": [
       "<div>\n",
       "<style scoped>\n",
       "    .dataframe tbody tr th:only-of-type {\n",
       "        vertical-align: middle;\n",
       "    }\n",
       "\n",
       "    .dataframe tbody tr th {\n",
       "        vertical-align: top;\n",
       "    }\n",
       "\n",
       "    .dataframe thead th {\n",
       "        text-align: right;\n",
       "    }\n",
       "</style>\n",
       "<table border=\"1\" class=\"dataframe\">\n",
       "  <thead>\n",
       "    <tr style=\"text-align: right;\">\n",
       "      <th></th>\n",
       "      <th>acc</th>\n",
       "      <th>source</th>\n",
       "      <th>all_num_genomes</th>\n",
       "      <th>all_num_species</th>\n",
       "      <th>reps_num_genomes</th>\n",
       "      <th>reps_num_species</th>\n",
       "      <th>p_weighted_found</th>\n",
       "      <th>p_host</th>\n",
       "    </tr>\n",
       "  </thead>\n",
       "  <tbody>\n",
       "    <tr>\n",
       "      <th>0</th>\n",
       "      <td>ERR4777899</td>\n",
       "      <td>human</td>\n",
       "      <td>31</td>\n",
       "      <td>25</td>\n",
       "      <td>25</td>\n",
       "      <td>26</td>\n",
       "      <td>85.846811</td>\n",
       "      <td>0.000000</td>\n",
       "    </tr>\n",
       "    <tr>\n",
       "      <th>137</th>\n",
       "      <td>DRR171637</td>\n",
       "      <td>human</td>\n",
       "      <td>298</td>\n",
       "      <td>192</td>\n",
       "      <td>230</td>\n",
       "      <td>231</td>\n",
       "      <td>89.520104</td>\n",
       "      <td>0.000000</td>\n",
       "    </tr>\n",
       "    <tr>\n",
       "      <th>138</th>\n",
       "      <td>SRR21171012</td>\n",
       "      <td>human</td>\n",
       "      <td>7</td>\n",
       "      <td>6</td>\n",
       "      <td>8</td>\n",
       "      <td>9</td>\n",
       "      <td>93.563155</td>\n",
       "      <td>0.000000</td>\n",
       "    </tr>\n",
       "    <tr>\n",
       "      <th>139</th>\n",
       "      <td>SRR12826817</td>\n",
       "      <td>human</td>\n",
       "      <td>1</td>\n",
       "      <td>2</td>\n",
       "      <td>1</td>\n",
       "      <td>2</td>\n",
       "      <td>5.052265</td>\n",
       "      <td>0.000000</td>\n",
       "    </tr>\n",
       "    <tr>\n",
       "      <th>140</th>\n",
       "      <td>SRR514233</td>\n",
       "      <td>human</td>\n",
       "      <td>415</td>\n",
       "      <td>246</td>\n",
       "      <td>298</td>\n",
       "      <td>299</td>\n",
       "      <td>77.689022</td>\n",
       "      <td>0.000000</td>\n",
       "    </tr>\n",
       "    <tr>\n",
       "      <th>...</th>\n",
       "      <td>...</td>\n",
       "      <td>...</td>\n",
       "      <td>...</td>\n",
       "      <td>...</td>\n",
       "      <td>...</td>\n",
       "      <td>...</td>\n",
       "      <td>...</td>\n",
       "      <td>...</td>\n",
       "    </tr>\n",
       "    <tr>\n",
       "      <th>76</th>\n",
       "      <td>ERR4421616</td>\n",
       "      <td>human</td>\n",
       "      <td>4</td>\n",
       "      <td>4</td>\n",
       "      <td>3</td>\n",
       "      <td>4</td>\n",
       "      <td>52.932622</td>\n",
       "      <td>14.502757</td>\n",
       "    </tr>\n",
       "    <tr>\n",
       "      <th>51</th>\n",
       "      <td>SRR15463845</td>\n",
       "      <td>human</td>\n",
       "      <td>149</td>\n",
       "      <td>86</td>\n",
       "      <td>102</td>\n",
       "      <td>103</td>\n",
       "      <td>68.471814</td>\n",
       "      <td>21.077398</td>\n",
       "    </tr>\n",
       "    <tr>\n",
       "      <th>175</th>\n",
       "      <td>SRR18147653</td>\n",
       "      <td>human</td>\n",
       "      <td>133</td>\n",
       "      <td>110</td>\n",
       "      <td>112</td>\n",
       "      <td>113</td>\n",
       "      <td>63.860007</td>\n",
       "      <td>23.681985</td>\n",
       "    </tr>\n",
       "    <tr>\n",
       "      <th>32</th>\n",
       "      <td>SRR16316542</td>\n",
       "      <td>human</td>\n",
       "      <td>306</td>\n",
       "      <td>277</td>\n",
       "      <td>259</td>\n",
       "      <td>260</td>\n",
       "      <td>69.616796</td>\n",
       "      <td>26.240226</td>\n",
       "    </tr>\n",
       "    <tr>\n",
       "      <th>58</th>\n",
       "      <td>SRR14598957</td>\n",
       "      <td>human</td>\n",
       "      <td>27</td>\n",
       "      <td>24</td>\n",
       "      <td>23</td>\n",
       "      <td>24</td>\n",
       "      <td>1.647269</td>\n",
       "      <td>45.377985</td>\n",
       "    </tr>\n",
       "  </tbody>\n",
       "</table>\n",
       "<p>218 rows × 8 columns</p>\n",
       "</div>"
      ],
      "text/plain": [
       "             acc source  all_num_genomes  all_num_species  reps_num_genomes  \\\n",
       "0     ERR4777899  human               31               25                25   \n",
       "137    DRR171637  human              298              192               230   \n",
       "138  SRR21171012  human                7                6                 8   \n",
       "139  SRR12826817  human                1                2                 1   \n",
       "140    SRR514233  human              415              246               298   \n",
       "..           ...    ...              ...              ...               ...   \n",
       "76    ERR4421616  human                4                4                 3   \n",
       "51   SRR15463845  human              149               86               102   \n",
       "175  SRR18147653  human              133              110               112   \n",
       "32   SRR16316542  human              306              277               259   \n",
       "58   SRR14598957  human               27               24                23   \n",
       "\n",
       "     reps_num_species  p_weighted_found     p_host  \n",
       "0                  26         85.846811   0.000000  \n",
       "137               231         89.520104   0.000000  \n",
       "138                 9         93.563155   0.000000  \n",
       "139                 2          5.052265   0.000000  \n",
       "140               299         77.689022   0.000000  \n",
       "..                ...               ...        ...  \n",
       "76                  4         52.932622  14.502757  \n",
       "51                103         68.471814  21.077398  \n",
       "175               113         63.860007  23.681985  \n",
       "32                260         69.616796  26.240226  \n",
       "58                 24          1.647269  45.377985  \n",
       "\n",
       "[218 rows x 8 columns]"
      ]
     },
     "execution_count": 10,
     "metadata": {},
     "output_type": "execute_result"
    }
   ],
   "source": [
    "gather_info_df.sort_values(by='p_host')"
   ]
  },
  {
   "cell_type": "code",
   "execution_count": 11,
   "id": "0aa2e4a9",
   "metadata": {},
   "outputs": [
    {
     "data": {
      "text/plain": [
       "36"
      ]
     },
     "execution_count": 11,
     "metadata": {},
     "output_type": "execute_result"
    }
   ],
   "source": [
    "len(gather_info_df[gather_info_df['p_weighted_found'] < 50])"
   ]
  },
  {
   "cell_type": "code",
   "execution_count": 12,
   "id": "182d20d3",
   "metadata": {},
   "outputs": [
    {
     "data": {
      "text/plain": [
       "1321.1009174311928"
      ]
     },
     "execution_count": 12,
     "metadata": {},
     "output_type": "execute_result"
    }
   ],
   "source": [
    "36 / 218 * 8000"
   ]
  },
  {
   "cell_type": "code",
   "execution_count": 14,
   "id": "d260c0f4",
   "metadata": {},
   "outputs": [
    {
     "data": {
      "text/plain": [
       "count    218.000000\n",
       "mean      70.112420\n",
       "std       25.350907\n",
       "min        0.181514\n",
       "25%       66.981101\n",
       "50%       78.563161\n",
       "75%       86.724190\n",
       "max       98.377011\n",
       "Name: p_weighted_found, dtype: float64"
      ]
     },
     "execution_count": 14,
     "metadata": {},
     "output_type": "execute_result"
    }
   ],
   "source": [
    "gather_info_df['p_weighted_found'].describe()"
   ]
  },
  {
   "cell_type": "code",
   "execution_count": 15,
   "id": "6f16364d",
   "metadata": {},
   "outputs": [
    {
     "data": {
      "text/plain": [
       "29"
      ]
     },
     "execution_count": 15,
     "metadata": {},
     "output_type": "execute_result"
    }
   ],
   "source": [
    "247 - 218"
   ]
  },
  {
   "cell_type": "code",
   "execution_count": null,
   "id": "995a5d1a",
   "metadata": {},
   "outputs": [],
   "source": []
  }
 ],
 "metadata": {
  "kernelspec": {
   "display_name": "py38arm",
   "language": "python",
   "name": "py38arm"
  },
  "language_info": {
   "codemirror_mode": {
    "name": "ipython",
    "version": 3
   },
   "file_extension": ".py",
   "mimetype": "text/x-python",
   "name": "python",
   "nbconvert_exporter": "python",
   "pygments_lexer": "ipython3",
   "version": "3.8.13"
  }
 },
 "nbformat": 4,
 "nbformat_minor": 5
}
