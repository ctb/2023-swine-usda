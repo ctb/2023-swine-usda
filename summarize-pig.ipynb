{
 "cells": [
  {
   "cell_type": "code",
   "execution_count": 56,
   "id": "8a0d6ccb",
   "metadata": {},
   "outputs": [],
   "source": [
    "import pandas as pd\n",
    "from glob import glob\n",
    "import os.path\n",
    "from matplotlib import pyplot"
   ]
  },
  {
   "cell_type": "code",
   "execution_count": 60,
   "id": "693c16f5",
   "metadata": {},
   "outputs": [],
   "source": [
    "def load_acc_info(acc, src='swine'):\n",
    "    d = {}\n",
    "    d['acc'] = acc\n",
    "    d['source'] = src\n",
    "\n",
    "    all_gather = pd.read_csv(f'outputs.swine-x-all/{acc}.gather.csv')\n",
    "    all_gathertax = pd.read_csv(f'outputs.swine-x-all/{acc}.gathertax.summarized.csv')\n",
    "    all_gathertax_species = all_gathertax[all_gathertax['rank'] == 'species']\n",
    "    d['all_num_genomes'] = len(all_gather)\n",
    "    d['all_num_species'] = len(all_gathertax_species)\n",
    "\n",
    "    try:\n",
    "        reps_gather = pd.read_csv(f'outputs.swine-x-reps/{acc}.gather.csv')\n",
    "        reps_gathertax = pd.read_csv(f'outputs.swine-x-reps/{acc}.gathertax.summarized.csv')\n",
    "        reps_gathertax_species = reps_gathertax[reps_gathertax['rank'] == 'species']\n",
    "        d['reps_num_genomes'] = len(reps_gather)\n",
    "        d['reps_num_species'] = len(reps_gathertax_species)\n",
    "    except:\n",
    "        d['reps_num_genomes'] = -1\n",
    "        d['reps_num_species'] = -1\n",
    "\n",
    "    weighted_found = int(all_gather['sum_weighted_found'].tail(1))\n",
    "    weighted_total = int(all_gather['total_weighted_hashes'].tail(1))\n",
    "\n",
    "    d['p_weighted_found'] = 100*weighted_found / weighted_total\n",
    "    \n",
    "    try:\n",
    "        host_df = pd.read_csv(f'outputs.swine-x-all/{acc}.x.host.search.csv')\n",
    "        p_host = float(host_df['similarity'].tail(1)) * 100\n",
    "    except pd.errors.EmptyDataError:\n",
    "        p_host = 0\n",
    "    d['p_host'] = p_host\n",
    "    \n",
    "    return d"
   ]
  },
  {
   "cell_type": "code",
   "execution_count": 61,
   "id": "ed34bfe5",
   "metadata": {},
   "outputs": [
    {
     "name": "stdout",
     "output_type": "stream",
     "text": [
      "463\n"
     ]
    }
   ],
   "source": [
    "acclist = glob('outputs.swine-x-all/*.gather.csv')\n",
    "acclist = [ os.path.basename(x) for x in acclist ]\n",
    "acclist = [ x.split('.')[0] for x in acclist ]\n",
    "\n",
    "print(len(acclist))"
   ]
  },
  {
   "cell_type": "code",
   "execution_count": 62,
   "id": "5eaf4bf5",
   "metadata": {},
   "outputs": [],
   "source": [
    "acc_info_list = [ load_acc_info(acc) for acc in acclist ]\n",
    "\n",
    "gather_info_df = pd.DataFrame(acc_info_list)"
   ]
  },
  {
   "cell_type": "code",
   "execution_count": 63,
   "id": "15cee3de",
   "metadata": {},
   "outputs": [
    {
     "data": {
      "text/html": [
       "<div>\n",
       "<style scoped>\n",
       "    .dataframe tbody tr th:only-of-type {\n",
       "        vertical-align: middle;\n",
       "    }\n",
       "\n",
       "    .dataframe tbody tr th {\n",
       "        vertical-align: top;\n",
       "    }\n",
       "\n",
       "    .dataframe thead th {\n",
       "        text-align: right;\n",
       "    }\n",
       "</style>\n",
       "<table border=\"1\" class=\"dataframe\">\n",
       "  <thead>\n",
       "    <tr style=\"text-align: right;\">\n",
       "      <th></th>\n",
       "      <th>acc</th>\n",
       "      <th>source</th>\n",
       "      <th>all_num_genomes</th>\n",
       "      <th>all_num_species</th>\n",
       "      <th>reps_num_genomes</th>\n",
       "      <th>reps_num_species</th>\n",
       "      <th>p_weighted_found</th>\n",
       "      <th>p_host</th>\n",
       "    </tr>\n",
       "  </thead>\n",
       "  <tbody>\n",
       "    <tr>\n",
       "      <th>0</th>\n",
       "      <td>SRR11125272</td>\n",
       "      <td>swine</td>\n",
       "      <td>211</td>\n",
       "      <td>157</td>\n",
       "      <td>-1</td>\n",
       "      <td>-1</td>\n",
       "      <td>76.796542</td>\n",
       "      <td>0.000000</td>\n",
       "    </tr>\n",
       "    <tr>\n",
       "      <th>1</th>\n",
       "      <td>SRR17241638</td>\n",
       "      <td>swine</td>\n",
       "      <td>1684</td>\n",
       "      <td>1131</td>\n",
       "      <td>-1</td>\n",
       "      <td>-1</td>\n",
       "      <td>68.631143</td>\n",
       "      <td>0.000000</td>\n",
       "    </tr>\n",
       "    <tr>\n",
       "      <th>2</th>\n",
       "      <td>ERR1135640</td>\n",
       "      <td>swine</td>\n",
       "      <td>54</td>\n",
       "      <td>51</td>\n",
       "      <td>-1</td>\n",
       "      <td>-1</td>\n",
       "      <td>39.358974</td>\n",
       "      <td>0.000000</td>\n",
       "    </tr>\n",
       "    <tr>\n",
       "      <th>3</th>\n",
       "      <td>SRR8960962</td>\n",
       "      <td>swine</td>\n",
       "      <td>993</td>\n",
       "      <td>689</td>\n",
       "      <td>-1</td>\n",
       "      <td>-1</td>\n",
       "      <td>73.834017</td>\n",
       "      <td>0.000000</td>\n",
       "    </tr>\n",
       "    <tr>\n",
       "      <th>4</th>\n",
       "      <td>ERR3211938</td>\n",
       "      <td>swine</td>\n",
       "      <td>1167</td>\n",
       "      <td>826</td>\n",
       "      <td>-1</td>\n",
       "      <td>-1</td>\n",
       "      <td>59.492075</td>\n",
       "      <td>0.000000</td>\n",
       "    </tr>\n",
       "    <tr>\n",
       "      <th>...</th>\n",
       "      <td>...</td>\n",
       "      <td>...</td>\n",
       "      <td>...</td>\n",
       "      <td>...</td>\n",
       "      <td>...</td>\n",
       "      <td>...</td>\n",
       "      <td>...</td>\n",
       "      <td>...</td>\n",
       "    </tr>\n",
       "    <tr>\n",
       "      <th>458</th>\n",
       "      <td>SRR21977572</td>\n",
       "      <td>swine</td>\n",
       "      <td>382</td>\n",
       "      <td>297</td>\n",
       "      <td>-1</td>\n",
       "      <td>-1</td>\n",
       "      <td>42.639287</td>\n",
       "      <td>0.000000</td>\n",
       "    </tr>\n",
       "    <tr>\n",
       "      <th>459</th>\n",
       "      <td>SRR11945343</td>\n",
       "      <td>swine</td>\n",
       "      <td>2</td>\n",
       "      <td>3</td>\n",
       "      <td>-1</td>\n",
       "      <td>-1</td>\n",
       "      <td>5.637493</td>\n",
       "      <td>0.000000</td>\n",
       "    </tr>\n",
       "    <tr>\n",
       "      <th>460</th>\n",
       "      <td>SRR15410075</td>\n",
       "      <td>swine</td>\n",
       "      <td>27</td>\n",
       "      <td>24</td>\n",
       "      <td>-1</td>\n",
       "      <td>-1</td>\n",
       "      <td>7.369395</td>\n",
       "      <td>13.728577</td>\n",
       "    </tr>\n",
       "    <tr>\n",
       "      <th>461</th>\n",
       "      <td>ERR3211888</td>\n",
       "      <td>swine</td>\n",
       "      <td>1062</td>\n",
       "      <td>759</td>\n",
       "      <td>-1</td>\n",
       "      <td>-1</td>\n",
       "      <td>57.343014</td>\n",
       "      <td>0.000000</td>\n",
       "    </tr>\n",
       "    <tr>\n",
       "      <th>462</th>\n",
       "      <td>SRR8960621</td>\n",
       "      <td>swine</td>\n",
       "      <td>667</td>\n",
       "      <td>483</td>\n",
       "      <td>-1</td>\n",
       "      <td>-1</td>\n",
       "      <td>61.733051</td>\n",
       "      <td>0.000000</td>\n",
       "    </tr>\n",
       "  </tbody>\n",
       "</table>\n",
       "<p>463 rows × 8 columns</p>\n",
       "</div>"
      ],
      "text/plain": [
       "             acc source  all_num_genomes  all_num_species  reps_num_genomes  \\\n",
       "0    SRR11125272  swine              211              157                -1   \n",
       "1    SRR17241638  swine             1684             1131                -1   \n",
       "2     ERR1135640  swine               54               51                -1   \n",
       "3     SRR8960962  swine              993              689                -1   \n",
       "4     ERR3211938  swine             1167              826                -1   \n",
       "..           ...    ...              ...              ...               ...   \n",
       "458  SRR21977572  swine              382              297                -1   \n",
       "459  SRR11945343  swine                2                3                -1   \n",
       "460  SRR15410075  swine               27               24                -1   \n",
       "461   ERR3211888  swine             1062              759                -1   \n",
       "462   SRR8960621  swine              667              483                -1   \n",
       "\n",
       "     reps_num_species  p_weighted_found     p_host  \n",
       "0                  -1         76.796542   0.000000  \n",
       "1                  -1         68.631143   0.000000  \n",
       "2                  -1         39.358974   0.000000  \n",
       "3                  -1         73.834017   0.000000  \n",
       "4                  -1         59.492075   0.000000  \n",
       "..                ...               ...        ...  \n",
       "458                -1         42.639287   0.000000  \n",
       "459                -1          5.637493   0.000000  \n",
       "460                -1          7.369395  13.728577  \n",
       "461                -1         57.343014   0.000000  \n",
       "462                -1         61.733051   0.000000  \n",
       "\n",
       "[463 rows x 8 columns]"
      ]
     },
     "execution_count": 63,
     "metadata": {},
     "output_type": "execute_result"
    }
   ],
   "source": [
    "gather_info_df"
   ]
  },
  {
   "cell_type": "code",
   "execution_count": 64,
   "id": "ca659bb2",
   "metadata": {},
   "outputs": [
    {
     "data": {
      "text/plain": [
       "{'bodies': [<matplotlib.collections.PolyCollection at 0x169822910>],\n",
       " 'cmaxes': <matplotlib.collections.LineCollection at 0x1698227c0>,\n",
       " 'cmins': <matplotlib.collections.LineCollection at 0x169822f70>,\n",
       " 'cbars': <matplotlib.collections.LineCollection at 0x169802370>}"
      ]
     },
     "execution_count": 64,
     "metadata": {},
     "output_type": "execute_result"
    },
    {
     "data": {
      "image/png": "[encoded data removed]",
      "text/plain": [
       "<Figure size 432x288 with 1 Axes>"
      ]
     },
     "metadata": {
      "needs_background": "light"
     },
     "output_type": "display_data"
    }
   ],
   "source": [
    "pyplot.violinplot(gather_info_df['p_weighted_found'])"
   ]
  },
  {
   "cell_type": "code",
   "execution_count": 65,
   "id": "b9cfd386",
   "metadata": {},
   "outputs": [
    {
     "data": {
      "text/plain": [
       "[<matplotlib.lines.Line2D at 0x16a01c550>]"
      ]
     },
     "execution_count": 65,
     "metadata": {},
     "output_type": "execute_result"
    },
    {
     "data": {
      "image/png": "[encoded data removed]",
      "text/plain": [
       "<Figure size 432x288 with 1 Axes>"
      ]
     },
     "metadata": {
      "needs_background": "light"
     },
     "output_type": "display_data"
    }
   ],
   "source": [
    "pyplot.plot(gather_info_df['all_num_genomes'], gather_info_df['all_num_species'], 'ro')"
   ]
  },
  {
   "cell_type": "code",
   "execution_count": 66,
   "id": "92d50799",
   "metadata": {},
   "outputs": [
    {
     "data": {
      "text/plain": [
       "[<matplotlib.lines.Line2D at 0x169fb16d0>]"
      ]
     },
     "execution_count": 66,
     "metadata": {},
     "output_type": "execute_result"
    },
    {
     "data": {
      "image/png": "[encoded data removed]",
      "text/plain": [
       "<Figure size 432x288 with 1 Axes>"
      ]
     },
     "metadata": {
      "needs_background": "light"
     },
     "output_type": "display_data"
    }
   ],
   "source": [
    "pyplot.plot(gather_info_df['reps_num_species'], gather_info_df['all_num_species'], 'ro')"
   ]
  },
  {
   "cell_type": "code",
   "execution_count": 67,
   "id": "8241c539",
   "metadata": {},
   "outputs": [
    {
     "data": {
      "text/plain": [
       "{'bodies': [<matplotlib.collections.PolyCollection at 0x16974f550>],\n",
       " 'cmaxes': <matplotlib.collections.LineCollection at 0x16974f4c0>,\n",
       " 'cmins': <matplotlib.collections.LineCollection at 0x16974fa90>,\n",
       " 'cbars': <matplotlib.collections.LineCollection at 0x16974fe50>}"
      ]
     },
     "execution_count": 67,
     "metadata": {},
     "output_type": "execute_result"
    },
    {
     "data": {
      "image/png": "[encoded data removed]",
      "text/plain": [
       "<Figure size 432x288 with 1 Axes>"
      ]
     },
     "metadata": {
      "needs_background": "light"
     },
     "output_type": "display_data"
    }
   ],
   "source": [
    "pyplot.violinplot(gather_info_df['p_host'])"
   ]
  },
  {
   "cell_type": "code",
   "execution_count": 71,
   "id": "985f911b",
   "metadata": {},
   "outputs": [
    {
     "data": {
      "text/html": [
       "<div>\n",
       "<style scoped>\n",
       "    .dataframe tbody tr th:only-of-type {\n",
       "        vertical-align: middle;\n",
       "    }\n",
       "\n",
       "    .dataframe tbody tr th {\n",
       "        vertical-align: top;\n",
       "    }\n",
       "\n",
       "    .dataframe thead th {\n",
       "        text-align: right;\n",
       "    }\n",
       "</style>\n",
       "<table border=\"1\" class=\"dataframe\">\n",
       "  <thead>\n",
       "    <tr style=\"text-align: right;\">\n",
       "      <th></th>\n",
       "      <th>acc</th>\n",
       "      <th>source</th>\n",
       "      <th>all_num_genomes</th>\n",
       "      <th>all_num_species</th>\n",
       "      <th>reps_num_genomes</th>\n",
       "      <th>reps_num_species</th>\n",
       "      <th>p_weighted_found</th>\n",
       "      <th>p_host</th>\n",
       "    </tr>\n",
       "  </thead>\n",
       "  <tbody>\n",
       "    <tr>\n",
       "      <th>0</th>\n",
       "      <td>SRR11125272</td>\n",
       "      <td>swine</td>\n",
       "      <td>211</td>\n",
       "      <td>157</td>\n",
       "      <td>-1</td>\n",
       "      <td>-1</td>\n",
       "      <td>76.796542</td>\n",
       "      <td>0.000000</td>\n",
       "    </tr>\n",
       "    <tr>\n",
       "      <th>312</th>\n",
       "      <td>SRR17211177</td>\n",
       "      <td>swine</td>\n",
       "      <td>264</td>\n",
       "      <td>180</td>\n",
       "      <td>-1</td>\n",
       "      <td>-1</td>\n",
       "      <td>85.742387</td>\n",
       "      <td>0.000000</td>\n",
       "    </tr>\n",
       "    <tr>\n",
       "      <th>311</th>\n",
       "      <td>SRR8960123</td>\n",
       "      <td>swine</td>\n",
       "      <td>357</td>\n",
       "      <td>308</td>\n",
       "      <td>-1</td>\n",
       "      <td>-1</td>\n",
       "      <td>62.930050</td>\n",
       "      <td>0.000000</td>\n",
       "    </tr>\n",
       "    <tr>\n",
       "      <th>310</th>\n",
       "      <td>SRR11124818</td>\n",
       "      <td>swine</td>\n",
       "      <td>430</td>\n",
       "      <td>344</td>\n",
       "      <td>-1</td>\n",
       "      <td>-1</td>\n",
       "      <td>62.329420</td>\n",
       "      <td>0.000000</td>\n",
       "    </tr>\n",
       "    <tr>\n",
       "      <th>309</th>\n",
       "      <td>SRR11125642</td>\n",
       "      <td>swine</td>\n",
       "      <td>241</td>\n",
       "      <td>195</td>\n",
       "      <td>-1</td>\n",
       "      <td>-1</td>\n",
       "      <td>66.790533</td>\n",
       "      <td>0.000000</td>\n",
       "    </tr>\n",
       "    <tr>\n",
       "      <th>...</th>\n",
       "      <td>...</td>\n",
       "      <td>...</td>\n",
       "      <td>...</td>\n",
       "      <td>...</td>\n",
       "      <td>...</td>\n",
       "      <td>...</td>\n",
       "      <td>...</td>\n",
       "      <td>...</td>\n",
       "    </tr>\n",
       "    <tr>\n",
       "      <th>140</th>\n",
       "      <td>SRR19906188</td>\n",
       "      <td>swine</td>\n",
       "      <td>375</td>\n",
       "      <td>328</td>\n",
       "      <td>-1</td>\n",
       "      <td>-1</td>\n",
       "      <td>29.738937</td>\n",
       "      <td>43.566657</td>\n",
       "    </tr>\n",
       "    <tr>\n",
       "      <th>64</th>\n",
       "      <td>SRR19906193</td>\n",
       "      <td>swine</td>\n",
       "      <td>312</td>\n",
       "      <td>271</td>\n",
       "      <td>-1</td>\n",
       "      <td>-1</td>\n",
       "      <td>31.498151</td>\n",
       "      <td>43.755798</td>\n",
       "    </tr>\n",
       "    <tr>\n",
       "      <th>189</th>\n",
       "      <td>SRR19906163</td>\n",
       "      <td>swine</td>\n",
       "      <td>245</td>\n",
       "      <td>218</td>\n",
       "      <td>-1</td>\n",
       "      <td>-1</td>\n",
       "      <td>22.541149</td>\n",
       "      <td>44.866341</td>\n",
       "    </tr>\n",
       "    <tr>\n",
       "      <th>88</th>\n",
       "      <td>SRR19906156</td>\n",
       "      <td>swine</td>\n",
       "      <td>159</td>\n",
       "      <td>138</td>\n",
       "      <td>135</td>\n",
       "      <td>136</td>\n",
       "      <td>26.933139</td>\n",
       "      <td>44.973515</td>\n",
       "    </tr>\n",
       "    <tr>\n",
       "      <th>298</th>\n",
       "      <td>SRR19906165</td>\n",
       "      <td>swine</td>\n",
       "      <td>221</td>\n",
       "      <td>195</td>\n",
       "      <td>-1</td>\n",
       "      <td>-1</td>\n",
       "      <td>13.502442</td>\n",
       "      <td>45.113437</td>\n",
       "    </tr>\n",
       "  </tbody>\n",
       "</table>\n",
       "<p>463 rows × 8 columns</p>\n",
       "</div>"
      ],
      "text/plain": [
       "             acc source  all_num_genomes  all_num_species  reps_num_genomes  \\\n",
       "0    SRR11125272  swine              211              157                -1   \n",
       "312  SRR17211177  swine              264              180                -1   \n",
       "311   SRR8960123  swine              357              308                -1   \n",
       "310  SRR11124818  swine              430              344                -1   \n",
       "309  SRR11125642  swine              241              195                -1   \n",
       "..           ...    ...              ...              ...               ...   \n",
       "140  SRR19906188  swine              375              328                -1   \n",
       "64   SRR19906193  swine              312              271                -1   \n",
       "189  SRR19906163  swine              245              218                -1   \n",
       "88   SRR19906156  swine              159              138               135   \n",
       "298  SRR19906165  swine              221              195                -1   \n",
       "\n",
       "     reps_num_species  p_weighted_found     p_host  \n",
       "0                  -1         76.796542   0.000000  \n",
       "312                -1         85.742387   0.000000  \n",
       "311                -1         62.930050   0.000000  \n",
       "310                -1         62.329420   0.000000  \n",
       "309                -1         66.790533   0.000000  \n",
       "..                ...               ...        ...  \n",
       "140                -1         29.738937  43.566657  \n",
       "64                 -1         31.498151  43.755798  \n",
       "189                -1         22.541149  44.866341  \n",
       "88                136         26.933139  44.973515  \n",
       "298                -1         13.502442  45.113437  \n",
       "\n",
       "[463 rows x 8 columns]"
      ]
     },
     "execution_count": 71,
     "metadata": {},
     "output_type": "execute_result"
    }
   ],
   "source": [
    "gather_info_df.sort_values(by='p_host')"
   ]
  },
  {
   "cell_type": "code",
   "execution_count": 72,
   "id": "0aa2e4a9",
   "metadata": {},
   "outputs": [
    {
     "data": {
      "text/plain": [
       "463"
      ]
     },
     "execution_count": 72,
     "metadata": {},
     "output_type": "execute_result"
    }
   ],
   "source": [
    "len(gather_info_df)"
   ]
  },
  {
   "cell_type": "code",
   "execution_count": 73,
   "id": "78f6aac6",
   "metadata": {},
   "outputs": [
    {
     "data": {
      "text/plain": [
       "92"
      ]
     },
     "execution_count": 73,
     "metadata": {},
     "output_type": "execute_result"
    }
   ],
   "source": [
    "len(gather_info_df[gather_info_df['p_weighted_found'] < 50])"
   ]
  },
  {
   "cell_type": "code",
   "execution_count": 74,
   "id": "4418cf70",
   "metadata": {},
   "outputs": [
    {
     "data": {
      "text/plain": [
       "1589.63282937365"
      ]
     },
     "execution_count": 74,
     "metadata": {},
     "output_type": "execute_result"
    }
   ],
   "source": [
    "92 / 463 * 8000\n"
   ]
  },
  {
   "cell_type": "code",
   "execution_count": null,
   "id": "c5c94183",
   "metadata": {},
   "outputs": [],
   "source": []
  }
 ],
 "metadata": {
  "kernelspec": {
   "display_name": "py38arm",
   "language": "python",
   "name": "py38arm"
  },
  "language_info": {
   "codemirror_mode": {
    "name": "ipython",
    "version": 3
   },
   "file_extension": ".py",
   "mimetype": "text/x-python",
   "name": "python",
   "nbconvert_exporter": "python",
   "pygments_lexer": "ipython3",
   "version": "3.8.13"
  }
 },
 "nbformat": 4,
 "nbformat_minor": 5
}
