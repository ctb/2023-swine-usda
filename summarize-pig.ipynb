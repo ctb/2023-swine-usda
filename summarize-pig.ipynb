{
 "cells": [
  {
   "cell_type": "code",
   "execution_count": 12,
   "id": "8a0d6ccb",
   "metadata": {},
   "outputs": [],
   "source": [
    "import pandas as pd\n",
    "from glob import glob\n",
    "import os.path\n",
    "from matplotlib import pyplot"
   ]
  },
  {
   "cell_type": "code",
   "execution_count": 50,
   "id": "693c16f5",
   "metadata": {},
   "outputs": [],
   "source": [
    "def load_acc_info(acc, src='swine'):\n",
    "    d = {}\n",
    "    d['acc'] = acc\n",
    "    d['source'] = src\n",
    "\n",
    "    all_gather = pd.read_csv(f'outputs.swine-x-all/{acc}.gather.csv')\n",
    "    all_gathertax = pd.read_csv(f'outputs.swine-x-all/{acc}.gathertax.summarized.csv')\n",
    "    all_gathertax_species = all_gathertax[all_gathertax['rank'] == 'species']\n",
    "    d['all_num_genomes'] = len(all_gather)\n",
    "    d['all_num_species'] = len(all_gathertax_species)\n",
    "\n",
    "    reps_gather = pd.read_csv(f'outputs.swine-x-reps/{acc}.gather.csv')\n",
    "    reps_gathertax = pd.read_csv(f'outputs.swine-x-reps/{acc}.gathertax.summarized.csv')\n",
    "    reps_gathertax_species = reps_gathertax[reps_gathertax['rank'] == 'species']\n",
    "    d['reps_num_genomes'] = len(reps_gather)\n",
    "    d['reps_num_species'] = len(reps_gathertax_species)\n",
    "\n",
    "    weighted_found = int(all_gather['sum_weighted_found'].tail(1))\n",
    "    weighted_total = int(all_gather['total_weighted_hashes'].tail(1))\n",
    "\n",
    "    d['p_weighted_found'] = 100*weighted_found / weighted_total\n",
    "    \n",
    "    try:\n",
    "        host_df = pd.read_csv(f'outputs.swine-x-all/{acc}.x.host.search.csv')\n",
    "        p_host = float(host_df['similarity'].tail(1)) * 100\n",
    "    except pd.errors.EmptyDataError:\n",
    "        p_host = 0\n",
    "    d['p_host'] = p_host\n",
    "    \n",
    "    return d"
   ]
  },
  {
   "cell_type": "code",
   "execution_count": 51,
   "id": "ed34bfe5",
   "metadata": {},
   "outputs": [
    {
     "name": "stdout",
     "output_type": "stream",
     "text": [
      "81\n"
     ]
    }
   ],
   "source": [
    "acclist = glob('outputs.swine-x-all/*.gather.csv')\n",
    "acclist = [ os.path.basename(x) for x in acclist ]\n",
    "acclist = [ x.split('.')[0] for x in acclist ]\n",
    "\n",
    "print(len(acclist))"
   ]
  },
  {
   "cell_type": "code",
   "execution_count": 52,
   "id": "5eaf4bf5",
   "metadata": {},
   "outputs": [],
   "source": [
    "acc_info_list = [ load_acc_info(acc) for acc in acclist ]\n",
    "\n",
    "gather_info_df = pd.DataFrame(acc_info_list)"
   ]
  },
  {
   "cell_type": "code",
   "execution_count": 53,
   "id": "15cee3de",
   "metadata": {},
   "outputs": [
    {
     "data": {
      "text/html": [
       "<div>\n",
       "<style scoped>\n",
       "    .dataframe tbody tr th:only-of-type {\n",
       "        vertical-align: middle;\n",
       "    }\n",
       "\n",
       "    .dataframe tbody tr th {\n",
       "        vertical-align: top;\n",
       "    }\n",
       "\n",
       "    .dataframe thead th {\n",
       "        text-align: right;\n",
       "    }\n",
       "</style>\n",
       "<table border=\"1\" class=\"dataframe\">\n",
       "  <thead>\n",
       "    <tr style=\"text-align: right;\">\n",
       "      <th></th>\n",
       "      <th>acc</th>\n",
       "      <th>source</th>\n",
       "      <th>all_num_genomes</th>\n",
       "      <th>all_num_species</th>\n",
       "      <th>reps_num_genomes</th>\n",
       "      <th>reps_num_species</th>\n",
       "      <th>p_weighted_found</th>\n",
       "      <th>p_host</th>\n",
       "    </tr>\n",
       "  </thead>\n",
       "  <tbody>\n",
       "    <tr>\n",
       "      <th>0</th>\n",
       "      <td>SRR17241533</td>\n",
       "      <td>swine</td>\n",
       "      <td>1312</td>\n",
       "      <td>975</td>\n",
       "      <td>1003</td>\n",
       "      <td>1004</td>\n",
       "      <td>65.320447</td>\n",
       "      <td>0.000000</td>\n",
       "    </tr>\n",
       "    <tr>\n",
       "      <th>1</th>\n",
       "      <td>SRR11124666</td>\n",
       "      <td>swine</td>\n",
       "      <td>464</td>\n",
       "      <td>356</td>\n",
       "      <td>381</td>\n",
       "      <td>382</td>\n",
       "      <td>74.930494</td>\n",
       "      <td>0.000000</td>\n",
       "    </tr>\n",
       "    <tr>\n",
       "      <th>2</th>\n",
       "      <td>SRR11125165</td>\n",
       "      <td>swine</td>\n",
       "      <td>483</td>\n",
       "      <td>389</td>\n",
       "      <td>396</td>\n",
       "      <td>397</td>\n",
       "      <td>66.625108</td>\n",
       "      <td>0.000000</td>\n",
       "    </tr>\n",
       "    <tr>\n",
       "      <th>3</th>\n",
       "      <td>SRR14369150</td>\n",
       "      <td>swine</td>\n",
       "      <td>421</td>\n",
       "      <td>314</td>\n",
       "      <td>338</td>\n",
       "      <td>339</td>\n",
       "      <td>74.213846</td>\n",
       "      <td>23.349882</td>\n",
       "    </tr>\n",
       "    <tr>\n",
       "      <th>4</th>\n",
       "      <td>SRR11126074</td>\n",
       "      <td>swine</td>\n",
       "      <td>522</td>\n",
       "      <td>405</td>\n",
       "      <td>424</td>\n",
       "      <td>425</td>\n",
       "      <td>60.929624</td>\n",
       "      <td>0.000000</td>\n",
       "    </tr>\n",
       "    <tr>\n",
       "      <th>...</th>\n",
       "      <td>...</td>\n",
       "      <td>...</td>\n",
       "      <td>...</td>\n",
       "      <td>...</td>\n",
       "      <td>...</td>\n",
       "      <td>...</td>\n",
       "      <td>...</td>\n",
       "      <td>...</td>\n",
       "    </tr>\n",
       "    <tr>\n",
       "      <th>76</th>\n",
       "      <td>SRR11124817</td>\n",
       "      <td>swine</td>\n",
       "      <td>528</td>\n",
       "      <td>443</td>\n",
       "      <td>453</td>\n",
       "      <td>454</td>\n",
       "      <td>63.049019</td>\n",
       "      <td>0.000000</td>\n",
       "    </tr>\n",
       "    <tr>\n",
       "      <th>77</th>\n",
       "      <td>SRR5008264</td>\n",
       "      <td>swine</td>\n",
       "      <td>470</td>\n",
       "      <td>370</td>\n",
       "      <td>370</td>\n",
       "      <td>371</td>\n",
       "      <td>50.763239</td>\n",
       "      <td>0.000000</td>\n",
       "    </tr>\n",
       "    <tr>\n",
       "      <th>78</th>\n",
       "      <td>SRR11183496</td>\n",
       "      <td>swine</td>\n",
       "      <td>261</td>\n",
       "      <td>211</td>\n",
       "      <td>210</td>\n",
       "      <td>211</td>\n",
       "      <td>61.317847</td>\n",
       "      <td>0.000000</td>\n",
       "    </tr>\n",
       "    <tr>\n",
       "      <th>79</th>\n",
       "      <td>SRR11489788</td>\n",
       "      <td>swine</td>\n",
       "      <td>1394</td>\n",
       "      <td>933</td>\n",
       "      <td>1034</td>\n",
       "      <td>1035</td>\n",
       "      <td>68.777322</td>\n",
       "      <td>0.000000</td>\n",
       "    </tr>\n",
       "    <tr>\n",
       "      <th>80</th>\n",
       "      <td>SRR11126018</td>\n",
       "      <td>swine</td>\n",
       "      <td>159</td>\n",
       "      <td>119</td>\n",
       "      <td>123</td>\n",
       "      <td>124</td>\n",
       "      <td>72.176275</td>\n",
       "      <td>0.000000</td>\n",
       "    </tr>\n",
       "  </tbody>\n",
       "</table>\n",
       "<p>81 rows × 8 columns</p>\n",
       "</div>"
      ],
      "text/plain": [
       "            acc source  all_num_genomes  all_num_species  reps_num_genomes  \\\n",
       "0   SRR17241533  swine             1312              975              1003   \n",
       "1   SRR11124666  swine              464              356               381   \n",
       "2   SRR11125165  swine              483              389               396   \n",
       "3   SRR14369150  swine              421              314               338   \n",
       "4   SRR11126074  swine              522              405               424   \n",
       "..          ...    ...              ...              ...               ...   \n",
       "76  SRR11124817  swine              528              443               453   \n",
       "77   SRR5008264  swine              470              370               370   \n",
       "78  SRR11183496  swine              261              211               210   \n",
       "79  SRR11489788  swine             1394              933              1034   \n",
       "80  SRR11126018  swine              159              119               123   \n",
       "\n",
       "    reps_num_species  p_weighted_found     p_host  \n",
       "0               1004         65.320447   0.000000  \n",
       "1                382         74.930494   0.000000  \n",
       "2                397         66.625108   0.000000  \n",
       "3                339         74.213846  23.349882  \n",
       "4                425         60.929624   0.000000  \n",
       "..               ...               ...        ...  \n",
       "76               454         63.049019   0.000000  \n",
       "77               371         50.763239   0.000000  \n",
       "78               211         61.317847   0.000000  \n",
       "79              1035         68.777322   0.000000  \n",
       "80               124         72.176275   0.000000  \n",
       "\n",
       "[81 rows x 8 columns]"
      ]
     },
     "execution_count": 53,
     "metadata": {},
     "output_type": "execute_result"
    }
   ],
   "source": [
    "gather_info_df"
   ]
  },
  {
   "cell_type": "code",
   "execution_count": 46,
   "id": "ca659bb2",
   "metadata": {},
   "outputs": [
    {
     "data": {
      "text/plain": [
       "{'bodies': [<matplotlib.collections.PolyCollection at 0x169de4c70>],\n",
       " 'cmaxes': <matplotlib.collections.LineCollection at 0x169de4b20>,\n",
       " 'cmins': <matplotlib.collections.LineCollection at 0x169dfd310>,\n",
       " 'cbars': <matplotlib.collections.LineCollection at 0x169dfd6d0>}"
      ]
     },
     "execution_count": 46,
     "metadata": {},
     "output_type": "execute_result"
    },
    {
     "data": {
      "image/png": "[encoded data removed]",
      "text/plain": [
       "<Figure size 432x288 with 1 Axes>"
      ]
     },
     "metadata": {
      "needs_background": "light"
     },
     "output_type": "display_data"
    }
   ],
   "source": [
    "pyplot.violinplot(gather_info_df['p_weighted_found'])"
   ]
  },
  {
   "cell_type": "code",
   "execution_count": 47,
   "id": "b9cfd386",
   "metadata": {},
   "outputs": [
    {
     "data": {
      "text/plain": [
       "[<matplotlib.lines.Line2D at 0x169e46a60>]"
      ]
     },
     "execution_count": 47,
     "metadata": {},
     "output_type": "execute_result"
    },
    {
     "data": {
      "image/png": "[encoded data removed]",
      "text/plain": [
       "<Figure size 432x288 with 1 Axes>"
      ]
     },
     "metadata": {
      "needs_background": "light"
     },
     "output_type": "display_data"
    }
   ],
   "source": [
    "pyplot.plot(gather_info_df['all_num_genomes'], gather_info_df['all_num_species'], 'ro')"
   ]
  },
  {
   "cell_type": "code",
   "execution_count": 48,
   "id": "92d50799",
   "metadata": {},
   "outputs": [
    {
     "data": {
      "text/plain": [
       "[<matplotlib.lines.Line2D at 0x169e04d30>]"
      ]
     },
     "execution_count": 48,
     "metadata": {},
     "output_type": "execute_result"
    },
    {
     "data": {
      "image/png": "[encoded data removed]",
      "text/plain": [
       "<Figure size 432x288 with 1 Axes>"
      ]
     },
     "metadata": {
      "needs_background": "light"
     },
     "output_type": "display_data"
    }
   ],
   "source": [
    "pyplot.plot(gather_info_df['reps_num_species'], gather_info_df['all_num_species'], 'ro')"
   ]
  },
  {
   "cell_type": "code",
   "execution_count": 54,
   "id": "8241c539",
   "metadata": {},
   "outputs": [
    {
     "data": {
      "text/plain": [
       "{'bodies': [<matplotlib.collections.PolyCollection at 0x169727340>],\n",
       " 'cmaxes': <matplotlib.collections.LineCollection at 0x1697278e0>,\n",
       " 'cmins': <matplotlib.collections.LineCollection at 0x1697578b0>,\n",
       " 'cbars': <matplotlib.collections.LineCollection at 0x1697573d0>}"
      ]
     },
     "execution_count": 54,
     "metadata": {},
     "output_type": "execute_result"
    },
    {
     "data": {
      "image/png": "[encoded data removed]",
      "text/plain": [
       "<Figure size 432x288 with 1 Axes>"
      ]
     },
     "metadata": {
      "needs_background": "light"
     },
     "output_type": "display_data"
    }
   ],
   "source": [
    "pyplot.violinplot(gather_info_df['p_host'])"
   ]
  },
  {
   "cell_type": "code",
   "execution_count": 55,
   "id": "985f911b",
   "metadata": {},
   "outputs": [
    {
     "data": {
      "text/html": [
       "<div>\n",
       "<style scoped>\n",
       "    .dataframe tbody tr th:only-of-type {\n",
       "        vertical-align: middle;\n",
       "    }\n",
       "\n",
       "    .dataframe tbody tr th {\n",
       "        vertical-align: top;\n",
       "    }\n",
       "\n",
       "    .dataframe thead th {\n",
       "        text-align: right;\n",
       "    }\n",
       "</style>\n",
       "<table border=\"1\" class=\"dataframe\">\n",
       "  <thead>\n",
       "    <tr style=\"text-align: right;\">\n",
       "      <th></th>\n",
       "      <th>acc</th>\n",
       "      <th>source</th>\n",
       "      <th>all_num_genomes</th>\n",
       "      <th>all_num_species</th>\n",
       "      <th>reps_num_genomes</th>\n",
       "      <th>reps_num_species</th>\n",
       "      <th>p_weighted_found</th>\n",
       "      <th>p_host</th>\n",
       "    </tr>\n",
       "  </thead>\n",
       "  <tbody>\n",
       "    <tr>\n",
       "      <th>0</th>\n",
       "      <td>SRR17241533</td>\n",
       "      <td>swine</td>\n",
       "      <td>1312</td>\n",
       "      <td>975</td>\n",
       "      <td>1003</td>\n",
       "      <td>1004</td>\n",
       "      <td>65.320447</td>\n",
       "      <td>0.000000</td>\n",
       "    </tr>\n",
       "    <tr>\n",
       "      <th>57</th>\n",
       "      <td>ERR3211947</td>\n",
       "      <td>swine</td>\n",
       "      <td>1271</td>\n",
       "      <td>910</td>\n",
       "      <td>958</td>\n",
       "      <td>959</td>\n",
       "      <td>58.063968</td>\n",
       "      <td>0.000000</td>\n",
       "    </tr>\n",
       "    <tr>\n",
       "      <th>56</th>\n",
       "      <td>SRR11126381</td>\n",
       "      <td>swine</td>\n",
       "      <td>444</td>\n",
       "      <td>338</td>\n",
       "      <td>359</td>\n",
       "      <td>360</td>\n",
       "      <td>68.316184</td>\n",
       "      <td>0.000000</td>\n",
       "    </tr>\n",
       "    <tr>\n",
       "      <th>55</th>\n",
       "      <td>SRR7182028</td>\n",
       "      <td>swine</td>\n",
       "      <td>619</td>\n",
       "      <td>481</td>\n",
       "      <td>493</td>\n",
       "      <td>494</td>\n",
       "      <td>56.466795</td>\n",
       "      <td>0.000000</td>\n",
       "    </tr>\n",
       "    <tr>\n",
       "      <th>54</th>\n",
       "      <td>SRR14126932</td>\n",
       "      <td>swine</td>\n",
       "      <td>1</td>\n",
       "      <td>2</td>\n",
       "      <td>1</td>\n",
       "      <td>2</td>\n",
       "      <td>0.946113</td>\n",
       "      <td>0.000000</td>\n",
       "    </tr>\n",
       "    <tr>\n",
       "      <th>...</th>\n",
       "      <td>...</td>\n",
       "      <td>...</td>\n",
       "      <td>...</td>\n",
       "      <td>...</td>\n",
       "      <td>...</td>\n",
       "      <td>...</td>\n",
       "      <td>...</td>\n",
       "      <td>...</td>\n",
       "    </tr>\n",
       "    <tr>\n",
       "      <th>21</th>\n",
       "      <td>SRR9720085</td>\n",
       "      <td>swine</td>\n",
       "      <td>976</td>\n",
       "      <td>845</td>\n",
       "      <td>815</td>\n",
       "      <td>816</td>\n",
       "      <td>39.333773</td>\n",
       "      <td>8.960834</td>\n",
       "    </tr>\n",
       "    <tr>\n",
       "      <th>3</th>\n",
       "      <td>SRR14369150</td>\n",
       "      <td>swine</td>\n",
       "      <td>421</td>\n",
       "      <td>314</td>\n",
       "      <td>338</td>\n",
       "      <td>339</td>\n",
       "      <td>74.213846</td>\n",
       "      <td>23.349882</td>\n",
       "    </tr>\n",
       "    <tr>\n",
       "      <th>12</th>\n",
       "      <td>SRR17241527</td>\n",
       "      <td>swine</td>\n",
       "      <td>883</td>\n",
       "      <td>585</td>\n",
       "      <td>643</td>\n",
       "      <td>644</td>\n",
       "      <td>77.456073</td>\n",
       "      <td>25.103062</td>\n",
       "    </tr>\n",
       "    <tr>\n",
       "      <th>22</th>\n",
       "      <td>SRR19906118</td>\n",
       "      <td>swine</td>\n",
       "      <td>309</td>\n",
       "      <td>263</td>\n",
       "      <td>248</td>\n",
       "      <td>249</td>\n",
       "      <td>43.481131</td>\n",
       "      <td>42.267117</td>\n",
       "    </tr>\n",
       "    <tr>\n",
       "      <th>17</th>\n",
       "      <td>SRR19906156</td>\n",
       "      <td>swine</td>\n",
       "      <td>159</td>\n",
       "      <td>138</td>\n",
       "      <td>135</td>\n",
       "      <td>136</td>\n",
       "      <td>26.933139</td>\n",
       "      <td>44.973515</td>\n",
       "    </tr>\n",
       "  </tbody>\n",
       "</table>\n",
       "<p>81 rows × 8 columns</p>\n",
       "</div>"
      ],
      "text/plain": [
       "            acc source  all_num_genomes  all_num_species  reps_num_genomes  \\\n",
       "0   SRR17241533  swine             1312              975              1003   \n",
       "57   ERR3211947  swine             1271              910               958   \n",
       "56  SRR11126381  swine              444              338               359   \n",
       "55   SRR7182028  swine              619              481               493   \n",
       "54  SRR14126932  swine                1                2                 1   \n",
       "..          ...    ...              ...              ...               ...   \n",
       "21   SRR9720085  swine              976              845               815   \n",
       "3   SRR14369150  swine              421              314               338   \n",
       "12  SRR17241527  swine              883              585               643   \n",
       "22  SRR19906118  swine              309              263               248   \n",
       "17  SRR19906156  swine              159              138               135   \n",
       "\n",
       "    reps_num_species  p_weighted_found     p_host  \n",
       "0               1004         65.320447   0.000000  \n",
       "57               959         58.063968   0.000000  \n",
       "56               360         68.316184   0.000000  \n",
       "55               494         56.466795   0.000000  \n",
       "54                 2          0.946113   0.000000  \n",
       "..               ...               ...        ...  \n",
       "21               816         39.333773   8.960834  \n",
       "3                339         74.213846  23.349882  \n",
       "12               644         77.456073  25.103062  \n",
       "22               249         43.481131  42.267117  \n",
       "17               136         26.933139  44.973515  \n",
       "\n",
       "[81 rows x 8 columns]"
      ]
     },
     "execution_count": 55,
     "metadata": {},
     "output_type": "execute_result"
    }
   ],
   "source": [
    "gather_info_df.sort_values(by='p_host')"
   ]
  },
  {
   "cell_type": "code",
   "execution_count": null,
   "id": "0aa2e4a9",
   "metadata": {},
   "outputs": [],
   "source": []
  }
 ],
 "metadata": {
  "kernelspec": {
   "display_name": "py38arm",
   "language": "python",
   "name": "py38arm"
  },
  "language_info": {
   "codemirror_mode": {
    "name": "ipython",
    "version": 3
   },
   "file_extension": ".py",
   "mimetype": "text/x-python",
   "name": "python",
   "nbconvert_exporter": "python",
   "pygments_lexer": "ipython3",
   "version": "3.8.13"
  }
 },
 "nbformat": 4,
 "nbformat_minor": 5
}
