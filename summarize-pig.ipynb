{
 "cells": [
  {
   "cell_type": "code",
   "execution_count": 1,
   "id": "8a0d6ccb",
   "metadata": {},
   "outputs": [],
   "source": [
    "import pandas as pd\n",
    "from glob import glob\n",
    "import os.path\n",
    "from matplotlib import pyplot"
   ]
  },
  {
   "cell_type": "code",
   "execution_count": 2,
   "id": "693c16f5",
   "metadata": {},
   "outputs": [],
   "source": [
    "def load_acc_info(acc, src='swine'):\n",
    "    d = {}\n",
    "    d['acc'] = acc\n",
    "    d['source'] = src\n",
    "\n",
    "    all_gather = pd.read_csv(f'outputs.swine-x-all/{acc}.gather.csv')\n",
    "    all_gathertax = pd.read_csv(f'outputs.swine-x-all/{acc}.gathertax.summarized.csv')\n",
    "    all_gathertax_species = all_gathertax[all_gathertax['rank'] == 'species']\n",
    "    d['all_num_genomes'] = len(all_gather)\n",
    "    d['all_num_species'] = len(all_gathertax_species)\n",
    "\n",
    "    try:\n",
    "        reps_gather = pd.read_csv(f'outputs.swine-x-reps/{acc}.gather.csv')\n",
    "        reps_gathertax = pd.read_csv(f'outputs.swine-x-reps/{acc}.gathertax.summarized.csv')\n",
    "        reps_gathertax_species = reps_gathertax[reps_gathertax['rank'] == 'species']\n",
    "        d['reps_num_genomes'] = len(reps_gather)\n",
    "        d['reps_num_species'] = len(reps_gathertax_species)\n",
    "    except:\n",
    "        d['reps_num_genomes'] = -1\n",
    "        d['reps_num_species'] = -1\n",
    "\n",
    "    weighted_found = int(all_gather['sum_weighted_found'].tail(1))\n",
    "    weighted_total = int(all_gather['total_weighted_hashes'].tail(1))\n",
    "\n",
    "    d['p_weighted_found'] = 100*weighted_found / weighted_total\n",
    "    \n",
    "    try:\n",
    "        host_df = pd.read_csv(f'outputs.swine-x-all/{acc}.x.host.search.csv')\n",
    "        p_host = float(host_df['similarity'].tail(1)) * 100\n",
    "    except pd.errors.EmptyDataError:\n",
    "        p_host = 0\n",
    "    d['p_host'] = p_host\n",
    "    \n",
    "    return d"
   ]
  },
  {
   "cell_type": "code",
   "execution_count": 3,
   "id": "ed34bfe5",
   "metadata": {},
   "outputs": [
    {
     "name": "stdout",
     "output_type": "stream",
     "text": [
      "463\n"
     ]
    }
   ],
   "source": [
    "acclist = glob('outputs.swine-x-all/*.gather.csv')\n",
    "acclist = [ os.path.basename(x) for x in acclist ]\n",
    "acclist = [ x.split('.')[0] for x in acclist ]\n",
    "\n",
    "print(len(acclist))"
   ]
  },
  {
   "cell_type": "code",
   "execution_count": 4,
   "id": "5eaf4bf5",
   "metadata": {},
   "outputs": [],
   "source": [
    "acc_info_list = [ load_acc_info(acc) for acc in acclist ]\n",
    "\n",
    "gather_info_df = pd.DataFrame(acc_info_list)"
   ]
  },
  {
   "cell_type": "code",
   "execution_count": 5,
   "id": "15cee3de",
   "metadata": {},
   "outputs": [
    {
     "data": {
      "text/html": [
       "<div>\n",
       "<style scoped>\n",
       "    .dataframe tbody tr th:only-of-type {\n",
       "        vertical-align: middle;\n",
       "    }\n",
       "\n",
       "    .dataframe tbody tr th {\n",
       "        vertical-align: top;\n",
       "    }\n",
       "\n",
       "    .dataframe thead th {\n",
       "        text-align: right;\n",
       "    }\n",
       "</style>\n",
       "<table border=\"1\" class=\"dataframe\">\n",
       "  <thead>\n",
       "    <tr style=\"text-align: right;\">\n",
       "      <th></th>\n",
       "      <th>acc</th>\n",
       "      <th>source</th>\n",
       "      <th>all_num_genomes</th>\n",
       "      <th>all_num_species</th>\n",
       "      <th>reps_num_genomes</th>\n",
       "      <th>reps_num_species</th>\n",
       "      <th>p_weighted_found</th>\n",
       "      <th>p_host</th>\n",
       "    </tr>\n",
       "  </thead>\n",
       "  <tbody>\n",
       "    <tr>\n",
       "      <th>0</th>\n",
       "      <td>SRR11125272</td>\n",
       "      <td>swine</td>\n",
       "      <td>211</td>\n",
       "      <td>157</td>\n",
       "      <td>176</td>\n",
       "      <td>177</td>\n",
       "      <td>76.796542</td>\n",
       "      <td>0.000000</td>\n",
       "    </tr>\n",
       "    <tr>\n",
       "      <th>1</th>\n",
       "      <td>SRR17241638</td>\n",
       "      <td>swine</td>\n",
       "      <td>1684</td>\n",
       "      <td>1131</td>\n",
       "      <td>1266</td>\n",
       "      <td>1267</td>\n",
       "      <td>68.631143</td>\n",
       "      <td>0.000000</td>\n",
       "    </tr>\n",
       "    <tr>\n",
       "      <th>2</th>\n",
       "      <td>ERR1135640</td>\n",
       "      <td>swine</td>\n",
       "      <td>54</td>\n",
       "      <td>51</td>\n",
       "      <td>43</td>\n",
       "      <td>44</td>\n",
       "      <td>39.358974</td>\n",
       "      <td>0.000000</td>\n",
       "    </tr>\n",
       "    <tr>\n",
       "      <th>3</th>\n",
       "      <td>SRR8960962</td>\n",
       "      <td>swine</td>\n",
       "      <td>993</td>\n",
       "      <td>689</td>\n",
       "      <td>771</td>\n",
       "      <td>772</td>\n",
       "      <td>73.834017</td>\n",
       "      <td>0.000000</td>\n",
       "    </tr>\n",
       "    <tr>\n",
       "      <th>4</th>\n",
       "      <td>ERR3211938</td>\n",
       "      <td>swine</td>\n",
       "      <td>1167</td>\n",
       "      <td>826</td>\n",
       "      <td>852</td>\n",
       "      <td>853</td>\n",
       "      <td>59.492075</td>\n",
       "      <td>0.000000</td>\n",
       "    </tr>\n",
       "    <tr>\n",
       "      <th>...</th>\n",
       "      <td>...</td>\n",
       "      <td>...</td>\n",
       "      <td>...</td>\n",
       "      <td>...</td>\n",
       "      <td>...</td>\n",
       "      <td>...</td>\n",
       "      <td>...</td>\n",
       "      <td>...</td>\n",
       "    </tr>\n",
       "    <tr>\n",
       "      <th>458</th>\n",
       "      <td>SRR21977572</td>\n",
       "      <td>swine</td>\n",
       "      <td>382</td>\n",
       "      <td>297</td>\n",
       "      <td>292</td>\n",
       "      <td>293</td>\n",
       "      <td>42.639287</td>\n",
       "      <td>0.000000</td>\n",
       "    </tr>\n",
       "    <tr>\n",
       "      <th>459</th>\n",
       "      <td>SRR11945343</td>\n",
       "      <td>swine</td>\n",
       "      <td>2</td>\n",
       "      <td>3</td>\n",
       "      <td>2</td>\n",
       "      <td>3</td>\n",
       "      <td>5.637493</td>\n",
       "      <td>0.000000</td>\n",
       "    </tr>\n",
       "    <tr>\n",
       "      <th>460</th>\n",
       "      <td>SRR15410075</td>\n",
       "      <td>swine</td>\n",
       "      <td>27</td>\n",
       "      <td>24</td>\n",
       "      <td>20</td>\n",
       "      <td>21</td>\n",
       "      <td>7.369395</td>\n",
       "      <td>13.728577</td>\n",
       "    </tr>\n",
       "    <tr>\n",
       "      <th>461</th>\n",
       "      <td>ERR3211888</td>\n",
       "      <td>swine</td>\n",
       "      <td>1062</td>\n",
       "      <td>759</td>\n",
       "      <td>783</td>\n",
       "      <td>784</td>\n",
       "      <td>57.343014</td>\n",
       "      <td>0.000000</td>\n",
       "    </tr>\n",
       "    <tr>\n",
       "      <th>462</th>\n",
       "      <td>SRR8960621</td>\n",
       "      <td>swine</td>\n",
       "      <td>667</td>\n",
       "      <td>483</td>\n",
       "      <td>505</td>\n",
       "      <td>506</td>\n",
       "      <td>61.733051</td>\n",
       "      <td>0.000000</td>\n",
       "    </tr>\n",
       "  </tbody>\n",
       "</table>\n",
       "<p>463 rows × 8 columns</p>\n",
       "</div>"
      ],
      "text/plain": [
       "             acc source  all_num_genomes  all_num_species  reps_num_genomes  \\\n",
       "0    SRR11125272  swine              211              157               176   \n",
       "1    SRR17241638  swine             1684             1131              1266   \n",
       "2     ERR1135640  swine               54               51                43   \n",
       "3     SRR8960962  swine              993              689               771   \n",
       "4     ERR3211938  swine             1167              826               852   \n",
       "..           ...    ...              ...              ...               ...   \n",
       "458  SRR21977572  swine              382              297               292   \n",
       "459  SRR11945343  swine                2                3                 2   \n",
       "460  SRR15410075  swine               27               24                20   \n",
       "461   ERR3211888  swine             1062              759               783   \n",
       "462   SRR8960621  swine              667              483               505   \n",
       "\n",
       "     reps_num_species  p_weighted_found     p_host  \n",
       "0                 177         76.796542   0.000000  \n",
       "1                1267         68.631143   0.000000  \n",
       "2                  44         39.358974   0.000000  \n",
       "3                 772         73.834017   0.000000  \n",
       "4                 853         59.492075   0.000000  \n",
       "..                ...               ...        ...  \n",
       "458               293         42.639287   0.000000  \n",
       "459                 3          5.637493   0.000000  \n",
       "460                21          7.369395  13.728577  \n",
       "461               784         57.343014   0.000000  \n",
       "462               506         61.733051   0.000000  \n",
       "\n",
       "[463 rows x 8 columns]"
      ]
     },
     "execution_count": 5,
     "metadata": {},
     "output_type": "execute_result"
    }
   ],
   "source": [
    "gather_info_df"
   ]
  },
  {
   "cell_type": "code",
   "execution_count": 6,
   "id": "ca659bb2",
   "metadata": {},
   "outputs": [
    {
     "data": {
      "text/plain": [
       "{'bodies': [<matplotlib.collections.PolyCollection at 0x1467b2640>],\n",
       " 'cmaxes': <matplotlib.collections.LineCollection at 0x1466b54c0>,\n",
       " 'cmins': <matplotlib.collections.LineCollection at 0x1467b2cd0>,\n",
       " 'cbars': <matplotlib.collections.LineCollection at 0x1467a60d0>}"
      ]
     },
     "execution_count": 6,
     "metadata": {},
     "output_type": "execute_result"
    },
    {
     "data": {
      "image/png": "[encoded data removed]",
      "text/plain": [
       "<Figure size 432x288 with 1 Axes>"
      ]
     },
     "metadata": {
      "needs_background": "light"
     },
     "output_type": "display_data"
    }
   ],
   "source": [
    "pyplot.violinplot(gather_info_df['p_weighted_found'])"
   ]
  },
  {
   "cell_type": "code",
   "execution_count": 7,
   "id": "b9cfd386",
   "metadata": {},
   "outputs": [
    {
     "data": {
      "text/plain": [
       "[<matplotlib.lines.Line2D at 0x146ab2700>]"
      ]
     },
     "execution_count": 7,
     "metadata": {},
     "output_type": "execute_result"
    },
    {
     "data": {
      "image/png": "[encoded data removed]",
      "text/plain": [
       "<Figure size 432x288 with 1 Axes>"
      ]
     },
     "metadata": {
      "needs_background": "light"
     },
     "output_type": "display_data"
    }
   ],
   "source": [
    "pyplot.plot(gather_info_df['all_num_genomes'], gather_info_df['all_num_species'], 'ro')"
   ]
  },
  {
   "cell_type": "code",
   "execution_count": 8,
   "id": "92d50799",
   "metadata": {},
   "outputs": [
    {
     "data": {
      "text/plain": [
       "[<matplotlib.lines.Line2D at 0x146b3a100>]"
      ]
     },
     "execution_count": 8,
     "metadata": {},
     "output_type": "execute_result"
    },
    {
     "data": {
      "image/png": "[encoded data removed]",
      "text/plain": [
       "<Figure size 432x288 with 1 Axes>"
      ]
     },
     "metadata": {
      "needs_background": "light"
     },
     "output_type": "display_data"
    }
   ],
   "source": [
    "pyplot.plot(gather_info_df['reps_num_species'], gather_info_df['all_num_species'], 'ro')"
   ]
  },
  {
   "cell_type": "code",
   "execution_count": 9,
   "id": "8241c539",
   "metadata": {},
   "outputs": [
    {
     "data": {
      "text/plain": [
       "{'bodies': [<matplotlib.collections.PolyCollection at 0x146baa160>],\n",
       " 'cmaxes': <matplotlib.collections.LineCollection at 0x146b9ba60>,\n",
       " 'cmins': <matplotlib.collections.LineCollection at 0x146baa6a0>,\n",
       " 'cbars': <matplotlib.collections.LineCollection at 0x146baaa60>}"
      ]
     },
     "execution_count": 9,
     "metadata": {},
     "output_type": "execute_result"
    },
    {
     "data": {
      "image/png": "[encoded data removed]",
      "text/plain": [
       "<Figure size 432x288 with 1 Axes>"
      ]
     },
     "metadata": {
      "needs_background": "light"
     },
     "output_type": "display_data"
    }
   ],
   "source": [
    "pyplot.violinplot(gather_info_df['p_host'])"
   ]
  },
  {
   "cell_type": "code",
   "execution_count": 10,
   "id": "985f911b",
   "metadata": {},
   "outputs": [
    {
     "data": {
      "text/html": [
       "<div>\n",
       "<style scoped>\n",
       "    .dataframe tbody tr th:only-of-type {\n",
       "        vertical-align: middle;\n",
       "    }\n",
       "\n",
       "    .dataframe tbody tr th {\n",
       "        vertical-align: top;\n",
       "    }\n",
       "\n",
       "    .dataframe thead th {\n",
       "        text-align: right;\n",
       "    }\n",
       "</style>\n",
       "<table border=\"1\" class=\"dataframe\">\n",
       "  <thead>\n",
       "    <tr style=\"text-align: right;\">\n",
       "      <th></th>\n",
       "      <th>acc</th>\n",
       "      <th>source</th>\n",
       "      <th>all_num_genomes</th>\n",
       "      <th>all_num_species</th>\n",
       "      <th>reps_num_genomes</th>\n",
       "      <th>reps_num_species</th>\n",
       "      <th>p_weighted_found</th>\n",
       "      <th>p_host</th>\n",
       "    </tr>\n",
       "  </thead>\n",
       "  <tbody>\n",
       "    <tr>\n",
       "      <th>0</th>\n",
       "      <td>SRR11125272</td>\n",
       "      <td>swine</td>\n",
       "      <td>211</td>\n",
       "      <td>157</td>\n",
       "      <td>176</td>\n",
       "      <td>177</td>\n",
       "      <td>76.796542</td>\n",
       "      <td>0.000000</td>\n",
       "    </tr>\n",
       "    <tr>\n",
       "      <th>312</th>\n",
       "      <td>SRR17211177</td>\n",
       "      <td>swine</td>\n",
       "      <td>264</td>\n",
       "      <td>180</td>\n",
       "      <td>218</td>\n",
       "      <td>219</td>\n",
       "      <td>85.742387</td>\n",
       "      <td>0.000000</td>\n",
       "    </tr>\n",
       "    <tr>\n",
       "      <th>311</th>\n",
       "      <td>SRR8960123</td>\n",
       "      <td>swine</td>\n",
       "      <td>357</td>\n",
       "      <td>308</td>\n",
       "      <td>307</td>\n",
       "      <td>308</td>\n",
       "      <td>62.930050</td>\n",
       "      <td>0.000000</td>\n",
       "    </tr>\n",
       "    <tr>\n",
       "      <th>310</th>\n",
       "      <td>SRR11124818</td>\n",
       "      <td>swine</td>\n",
       "      <td>430</td>\n",
       "      <td>344</td>\n",
       "      <td>374</td>\n",
       "      <td>375</td>\n",
       "      <td>62.329420</td>\n",
       "      <td>0.000000</td>\n",
       "    </tr>\n",
       "    <tr>\n",
       "      <th>309</th>\n",
       "      <td>SRR11125642</td>\n",
       "      <td>swine</td>\n",
       "      <td>241</td>\n",
       "      <td>195</td>\n",
       "      <td>198</td>\n",
       "      <td>199</td>\n",
       "      <td>66.790533</td>\n",
       "      <td>0.000000</td>\n",
       "    </tr>\n",
       "    <tr>\n",
       "      <th>...</th>\n",
       "      <td>...</td>\n",
       "      <td>...</td>\n",
       "      <td>...</td>\n",
       "      <td>...</td>\n",
       "      <td>...</td>\n",
       "      <td>...</td>\n",
       "      <td>...</td>\n",
       "      <td>...</td>\n",
       "    </tr>\n",
       "    <tr>\n",
       "      <th>140</th>\n",
       "      <td>SRR19906188</td>\n",
       "      <td>swine</td>\n",
       "      <td>375</td>\n",
       "      <td>328</td>\n",
       "      <td>301</td>\n",
       "      <td>302</td>\n",
       "      <td>29.738937</td>\n",
       "      <td>43.566657</td>\n",
       "    </tr>\n",
       "    <tr>\n",
       "      <th>64</th>\n",
       "      <td>SRR19906193</td>\n",
       "      <td>swine</td>\n",
       "      <td>312</td>\n",
       "      <td>271</td>\n",
       "      <td>248</td>\n",
       "      <td>249</td>\n",
       "      <td>31.498151</td>\n",
       "      <td>43.755798</td>\n",
       "    </tr>\n",
       "    <tr>\n",
       "      <th>189</th>\n",
       "      <td>SRR19906163</td>\n",
       "      <td>swine</td>\n",
       "      <td>245</td>\n",
       "      <td>218</td>\n",
       "      <td>218</td>\n",
       "      <td>219</td>\n",
       "      <td>22.541149</td>\n",
       "      <td>44.866341</td>\n",
       "    </tr>\n",
       "    <tr>\n",
       "      <th>88</th>\n",
       "      <td>SRR19906156</td>\n",
       "      <td>swine</td>\n",
       "      <td>159</td>\n",
       "      <td>138</td>\n",
       "      <td>135</td>\n",
       "      <td>136</td>\n",
       "      <td>26.933139</td>\n",
       "      <td>44.973515</td>\n",
       "    </tr>\n",
       "    <tr>\n",
       "      <th>298</th>\n",
       "      <td>SRR19906165</td>\n",
       "      <td>swine</td>\n",
       "      <td>221</td>\n",
       "      <td>195</td>\n",
       "      <td>177</td>\n",
       "      <td>178</td>\n",
       "      <td>13.502442</td>\n",
       "      <td>45.113437</td>\n",
       "    </tr>\n",
       "  </tbody>\n",
       "</table>\n",
       "<p>463 rows × 8 columns</p>\n",
       "</div>"
      ],
      "text/plain": [
       "             acc source  all_num_genomes  all_num_species  reps_num_genomes  \\\n",
       "0    SRR11125272  swine              211              157               176   \n",
       "312  SRR17211177  swine              264              180               218   \n",
       "311   SRR8960123  swine              357              308               307   \n",
       "310  SRR11124818  swine              430              344               374   \n",
       "309  SRR11125642  swine              241              195               198   \n",
       "..           ...    ...              ...              ...               ...   \n",
       "140  SRR19906188  swine              375              328               301   \n",
       "64   SRR19906193  swine              312              271               248   \n",
       "189  SRR19906163  swine              245              218               218   \n",
       "88   SRR19906156  swine              159              138               135   \n",
       "298  SRR19906165  swine              221              195               177   \n",
       "\n",
       "     reps_num_species  p_weighted_found     p_host  \n",
       "0                 177         76.796542   0.000000  \n",
       "312               219         85.742387   0.000000  \n",
       "311               308         62.930050   0.000000  \n",
       "310               375         62.329420   0.000000  \n",
       "309               199         66.790533   0.000000  \n",
       "..                ...               ...        ...  \n",
       "140               302         29.738937  43.566657  \n",
       "64                249         31.498151  43.755798  \n",
       "189               219         22.541149  44.866341  \n",
       "88                136         26.933139  44.973515  \n",
       "298               178         13.502442  45.113437  \n",
       "\n",
       "[463 rows x 8 columns]"
      ]
     },
     "execution_count": 10,
     "metadata": {},
     "output_type": "execute_result"
    }
   ],
   "source": [
    "gather_info_df.sort_values(by='p_host')"
   ]
  },
  {
   "cell_type": "code",
   "execution_count": 11,
   "id": "0aa2e4a9",
   "metadata": {},
   "outputs": [
    {
     "data": {
      "text/plain": [
       "463"
      ]
     },
     "execution_count": 11,
     "metadata": {},
     "output_type": "execute_result"
    }
   ],
   "source": [
    "len(gather_info_df)"
   ]
  },
  {
   "cell_type": "code",
   "execution_count": 12,
   "id": "71492a53",
   "metadata": {},
   "outputs": [
    {
     "data": {
      "text/plain": [
       "92"
      ]
     },
     "execution_count": 12,
     "metadata": {},
     "output_type": "execute_result"
    }
   ],
   "source": [
    "len(gather_info_df[gather_info_df['p_weighted_found'] < 50])"
   ]
  },
  {
   "cell_type": "code",
   "execution_count": 13,
   "id": "d8475fa6",
   "metadata": {},
   "outputs": [
    {
     "data": {
      "text/plain": [
       "1589.63282937365"
      ]
     },
     "execution_count": 13,
     "metadata": {},
     "output_type": "execute_result"
    }
   ],
   "source": [
    "92 / 463 * 8000\n"
   ]
  },
  {
   "cell_type": "code",
   "execution_count": 16,
   "id": "f27ab3f8",
   "metadata": {},
   "outputs": [
    {
     "data": {
      "text/plain": [
       "30"
      ]
     },
     "execution_count": 16,
     "metadata": {},
     "output_type": "execute_result"
    }
   ],
   "source": [
    "len(gather_info_df[gather_info_df['p_weighted_found'] < 20])"
   ]
  },
  {
   "cell_type": "code",
   "execution_count": 17,
   "id": "98b1fd5b",
   "metadata": {},
   "outputs": [
    {
     "data": {
      "text/plain": [
       "518.3585313174947"
      ]
     },
     "execution_count": 17,
     "metadata": {},
     "output_type": "execute_result"
    }
   ],
   "source": [
    "30 / 463 * 8000"
   ]
  },
  {
   "cell_type": "code",
   "execution_count": 14,
   "id": "eb5592e7",
   "metadata": {},
   "outputs": [
    {
     "data": {
      "text/plain": [
       "count    463.000000\n",
       "mean      58.102996\n",
       "std       19.125100\n",
       "min        0.223499\n",
       "25%       53.931828\n",
       "50%       63.112687\n",
       "75%       70.051300\n",
       "max       92.916674\n",
       "Name: p_weighted_found, dtype: float64"
      ]
     },
     "execution_count": 14,
     "metadata": {},
     "output_type": "execute_result"
    }
   ],
   "source": [
    "gather_info_df['p_weighted_found'].describe()"
   ]
  },
  {
   "cell_type": "code",
   "execution_count": 18,
   "id": "ba7f90ae",
   "metadata": {},
   "outputs": [
    {
     "data": {
      "text/plain": [
       "72"
      ]
     },
     "execution_count": 18,
     "metadata": {},
     "output_type": "execute_result"
    }
   ],
   "source": [
    "535 - 463"
   ]
  },
  {
   "cell_type": "code",
   "execution_count": null,
   "id": "08d5b3db",
   "metadata": {},
   "outputs": [],
   "source": []
  }
 ],
 "metadata": {
  "kernelspec": {
   "display_name": "py38arm",
   "language": "python",
   "name": "py38arm"
  },
  "language_info": {
   "codemirror_mode": {
    "name": "ipython",
    "version": 3
   },
   "file_extension": ".py",
   "mimetype": "text/x-python",
   "name": "python",
   "nbconvert_exporter": "python",
   "pygments_lexer": "ipython3",
   "version": "3.8.13"
  }
 },
 "nbformat": 4,
 "nbformat_minor": 5
}
